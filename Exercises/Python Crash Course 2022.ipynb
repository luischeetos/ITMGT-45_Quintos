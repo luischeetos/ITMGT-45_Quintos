{
 "cells": [
  {
   "cell_type": "code",
   "execution_count": 2,
   "id": "268494f2",
   "metadata": {},
   "outputs": [
    {
     "name": "stdout",
     "output_type": "stream",
     "text": [
      "Hello world.\n"
     ]
    }
   ],
   "source": [
    "print(\"Hello world.\")"
   ]
  },
  {
   "cell_type": "code",
   "execution_count": 3,
   "id": "0cbc2e90",
   "metadata": {},
   "outputs": [
    {
     "data": {
      "text/plain": [
       "5"
      ]
     },
     "execution_count": 3,
     "metadata": {},
     "output_type": "execute_result"
    }
   ],
   "source": [
    "# Python as calculator\n",
    "2 + 3"
   ]
  },
  {
   "cell_type": "code",
   "execution_count": 5,
   "id": "877ed3c8",
   "metadata": {},
   "outputs": [
    {
     "name": "stdout",
     "output_type": "stream",
     "text": [
      "7\n",
      "28\n"
     ]
    }
   ],
   "source": [
    "print (3 + 4)\n",
    "print (4 * 7)"
   ]
  },
  {
   "cell_type": "markdown",
   "id": "c18a6edb",
   "metadata": {},
   "source": [
    "# Heading 1\n",
    "## Heading 2\n",
    "**Bold text\n",
    "*italics*\n",
    "\n",
    "1. ordered item 1\n",
    "2. ordered item 2"
   ]
  },
  {
   "cell_type": "code",
   "execution_count": 6,
   "id": "82c5aded",
   "metadata": {},
   "outputs": [],
   "source": [
    "age = 17"
   ]
  },
  {
   "cell_type": "code",
   "execution_count": 7,
   "id": "82eaee5e",
   "metadata": {},
   "outputs": [
    {
     "data": {
      "text/plain": [
       "False"
      ]
     },
     "execution_count": 7,
     "metadata": {},
     "output_type": "execute_result"
    }
   ],
   "source": [
    "age> 21"
   ]
  },
  {
   "cell_type": "code",
   "execution_count": 8,
   "id": "6753f410",
   "metadata": {},
   "outputs": [],
   "source": [
    "grade = 85"
   ]
  },
  {
   "cell_type": "code",
   "execution_count": 9,
   "id": "b0213d15",
   "metadata": {},
   "outputs": [],
   "source": [
    "passing = 50"
   ]
  },
  {
   "cell_type": "code",
   "execution_count": 11,
   "id": "2b363daf",
   "metadata": {},
   "outputs": [],
   "source": [
    "passed = grade >= passing"
   ]
  },
  {
   "cell_type": "code",
   "execution_count": 12,
   "id": "87a86b03",
   "metadata": {},
   "outputs": [
    {
     "data": {
      "text/plain": [
       "True"
      ]
     },
     "execution_count": 12,
     "metadata": {},
     "output_type": "execute_result"
    }
   ],
   "source": [
    "passed"
   ]
  },
  {
   "cell_type": "code",
   "execution_count": 13,
   "id": "a6e3f4a2",
   "metadata": {},
   "outputs": [],
   "source": [
    "grade = 49"
   ]
  },
  {
   "cell_type": "code",
   "execution_count": 14,
   "id": "add24e89",
   "metadata": {},
   "outputs": [],
   "source": [
    "passed = grade >= passing"
   ]
  },
  {
   "cell_type": "code",
   "execution_count": 15,
   "id": "49126b23",
   "metadata": {},
   "outputs": [
    {
     "data": {
      "text/plain": [
       "False"
      ]
     },
     "execution_count": 15,
     "metadata": {},
     "output_type": "execute_result"
    }
   ],
   "source": [
    "passed"
   ]
  },
  {
   "cell_type": "code",
   "execution_count": 16,
   "id": "9accf826",
   "metadata": {},
   "outputs": [
    {
     "data": {
      "text/plain": [
       "True"
      ]
     },
     "execution_count": 16,
     "metadata": {},
     "output_type": "execute_result"
    }
   ],
   "source": [
    "grade != 50"
   ]
  },
  {
   "cell_type": "code",
   "execution_count": 17,
   "id": "590d06d4",
   "metadata": {},
   "outputs": [
    {
     "data": {
      "text/plain": [
       "False"
      ]
     },
     "execution_count": 17,
     "metadata": {},
     "output_type": "execute_result"
    }
   ],
   "source": [
    "grade != 49"
   ]
  },
  {
   "cell_type": "code",
   "execution_count": 19,
   "id": "d7c9155f",
   "metadata": {},
   "outputs": [
    {
     "name": "stdout",
     "output_type": "stream",
     "text": [
      "HelloWorld\n"
     ]
    }
   ],
   "source": [
    "print (\"Hello\", \"World\", sep=\"\")"
   ]
  },
  {
   "cell_type": "code",
   "execution_count": 20,
   "id": "654f1fab",
   "metadata": {},
   "outputs": [
    {
     "data": {
      "text/plain": [
       "'spam eggs'"
      ]
     },
     "execution_count": 20,
     "metadata": {},
     "output_type": "execute_result"
    }
   ],
   "source": [
    "\"spam eggs\""
   ]
  },
  {
   "cell_type": "code",
   "execution_count": 23,
   "id": "41ff55ef",
   "metadata": {},
   "outputs": [
    {
     "data": {
      "text/plain": [
       "\"doesn't\""
      ]
     },
     "execution_count": 23,
     "metadata": {},
     "output_type": "execute_result"
    }
   ],
   "source": [
    "\"doesn\\'t\""
   ]
  },
  {
   "cell_type": "code",
   "execution_count": 25,
   "id": "9bbd3bbd",
   "metadata": {},
   "outputs": [
    {
     "name": "stdout",
     "output_type": "stream",
     "text": [
      "what is your name?Joe\n"
     ]
    },
    {
     "data": {
      "text/plain": [
       "'Joe'"
      ]
     },
     "execution_count": 25,
     "metadata": {},
     "output_type": "execute_result"
    }
   ],
   "source": [
    "input(\"what is your name?\")"
   ]
  },
  {
   "cell_type": "code",
   "execution_count": 26,
   "id": "23405d97",
   "metadata": {},
   "outputs": [
    {
     "name": "stdout",
     "output_type": "stream",
     "text": [
      "What is your age?20\n"
     ]
    },
    {
     "data": {
      "text/plain": [
       "'20'"
      ]
     },
     "execution_count": 26,
     "metadata": {},
     "output_type": "execute_result"
    }
   ],
   "source": [
    "input (\"What is your age?\")"
   ]
  },
  {
   "cell_type": "code",
   "execution_count": 28,
   "id": "f7a2c65f",
   "metadata": {},
   "outputs": [
    {
     "name": "stdout",
     "output_type": "stream",
     "text": [
      "Base area: 200\n",
      "height: 150\n",
      "30000\n"
     ]
    }
   ],
   "source": [
    "#What is wrong with this code?\n",
    "base_area = int(input(\"Base area: \"))\n",
    "height = int(input(\"height: \"))\n",
    "volume = int(base_area) * int(height)\n",
    "print(volume)"
   ]
  },
  {
   "cell_type": "code",
   "execution_count": null,
   "id": "bcf1f8ec",
   "metadata": {},
   "outputs": [],
   "source": []
  }
 ],
 "metadata": {
  "kernelspec": {
   "display_name": "Python 3 (ipykernel)",
   "language": "python",
   "name": "python3"
  },
  "language_info": {
   "codemirror_mode": {
    "name": "ipython",
    "version": 3
   },
   "file_extension": ".py",
   "mimetype": "text/x-python",
   "name": "python",
   "nbconvert_exporter": "python",
   "pygments_lexer": "ipython3",
   "version": "3.9.12"
  }
 },
 "nbformat": 4,
 "nbformat_minor": 5
}
