{
 "cells": [
  {
   "cell_type": "markdown",
   "id": "00a08e15",
   "metadata": {},
   "source": [
    "1. Ask for Price\n",
    "2. Ask for quantity\n",
    "3. Compute for Subtotal\n",
    "4. Compute for total\n",
    "5. Display sub-total"
   ]
  },
  {
   "cell_type": "code",
   "execution_count": 12,
   "id": "aa9605fc",
   "metadata": {},
   "outputs": [],
   "source": [
    "def compute_subtotal(price, qty):\n",
    "    subtotal = price * qty\n",
    "    return subtotal\n",
    "\n",
    "def compute_total(subtotal):\n",
    "    return subtotal * 1.12"
   ]
  },
  {
   "cell_type": "code",
   "execution_count": 15,
   "id": "842f382e",
   "metadata": {},
   "outputs": [
    {
     "name": "stdout",
     "output_type": "stream",
     "text": [
      "What is the price of this product? 1\n",
      "How many cups? 2\n",
      "total amound due is PHP  2.24\n"
     ]
    }
   ],
   "source": [
    "#ask for price\n",
    "price = float(input(\"What is the price of this product? \"))\n",
    "              \n",
    "#ask for quantity\n",
    "qty = float(input(\"How many cups? \"))\n",
    "              \n",
    "#compute for subtotal\n",
    "subtotal = compute_subtotal(price,qty)\n",
    "            \n",
    "#compute for total\n",
    "total = compute_total(subtotal)\n",
    "            \n",
    "#display total\n",
    "print(\"total amound due is PHP \", total)"
   ]
  },
  {
   "cell_type": "markdown",
   "id": "6d62610c",
   "metadata": {},
   "source": []
  }
 ],
 "metadata": {
  "kernelspec": {
   "display_name": "Python 3 (ipykernel)",
   "language": "python",
   "name": "python3"
  },
  "language_info": {
   "codemirror_mode": {
    "name": "ipython",
    "version": 3
   },
   "file_extension": ".py",
   "mimetype": "text/x-python",
   "name": "python",
   "nbconvert_exporter": "python",
   "pygments_lexer": "ipython3",
   "version": "3.9.12"
  }
 },
 "nbformat": 4,
 "nbformat_minor": 5
}
