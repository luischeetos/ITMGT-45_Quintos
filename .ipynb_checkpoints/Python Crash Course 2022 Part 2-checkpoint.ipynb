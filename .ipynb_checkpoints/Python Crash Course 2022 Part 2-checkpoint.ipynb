{
 "cells": [
  {
   "cell_type": "markdown",
   "id": "6c52743b",
   "metadata": {},
   "source": [
    "### Key formulas\n",
    "Formula: \n",
    "Vat Exempt Sales = selling price / 1.12\n",
    "\n",
    "Senior Citizen Discount = VAT Exemp sales x 20%\n",
    "\n",
    "Amount collectible = VAT Exempt Sales - Senior Citizen Discount\n",
    "\n",
    "1. compute fro vatexemptsales = selling price / 1.12\n",
    "2. scd = vatexemptsales x 20%\n",
    "3. amtcollectible = vatexemptsales - scd\n",
    "4. print amtcollectible"
   ]
  },
  {
   "cell_type": "code",
   "execution_count": 6,
   "id": "6e7a9af9",
   "metadata": {},
   "outputs": [
    {
     "name": "stdout",
     "output_type": "stream",
     "text": [
      "What is the selling price:1000\n",
      "714.2857142857142\n"
     ]
    }
   ],
   "source": [
    "sellingprice = float(input(\"What is the selling price:\"))\n",
    "vatexmemptsales = sellingprice / 1.12\n",
    "scd = vatexmemptsales * 0.20\n",
    "amtcollectible = vatexemptsales - scd\n",
    "print(amtcollectible)"
   ]
  },
  {
   "cell_type": "code",
   "execution_count": null,
   "id": "dfd7e83e",
   "metadata": {},
   "outputs": [],
   "source": []
  }
 ],
 "metadata": {
  "kernelspec": {
   "display_name": "Python 3 (ipykernel)",
   "language": "python",
   "name": "python3"
  },
  "language_info": {
   "codemirror_mode": {
    "name": "ipython",
    "version": 3
   },
   "file_extension": ".py",
   "mimetype": "text/x-python",
   "name": "python",
   "nbconvert_exporter": "python",
   "pygments_lexer": "ipython3",
   "version": "3.9.12"
  }
 },
 "nbformat": 4,
 "nbformat_minor": 5
}
